{
  "nbformat": 4,
  "nbformat_minor": 0,
  "metadata": {
    "colab": {
      "provenance": [],
      "authorship_tag": "ABX9TyPUJefFuI4kP3xzAooZEK1B",
      "include_colab_link": true
    },
    "kernelspec": {
      "name": "python3",
      "display_name": "Python 3"
    },
    "language_info": {
      "name": "python"
    }
  },
  "cells": [
    {
      "cell_type": "markdown",
      "metadata": {
        "id": "view-in-github",
        "colab_type": "text"
      },
      "source": [
        "<a href=\"https://colab.research.google.com/github/ksivaram2/Machine-Learning/blob/main/Lab_Task_11.ipynb\" target=\"_parent\"><img src=\"https://colab.research.google.com/assets/colab-badge.svg\" alt=\"Open In Colab\"/></a>"
      ]
    },
    {
      "cell_type": "code",
      "execution_count": 5,
      "metadata": {
        "colab": {
          "base_uri": "https://localhost:8080/"
        },
        "id": "KPsZgSFxjNf0",
        "outputId": "a4877f17-4f66-43c7-fa74-23e1904869c7"
      },
      "outputs": [
        {
          "output_type": "stream",
          "name": "stdout",
          "text": [
            "Accuracy: 0.93\n",
            "              precision    recall  f1-score   support\n",
            "\n",
            "           0       0.96      0.92      0.94        52\n",
            "           1       0.87      0.93      0.90        28\n",
            "\n",
            "    accuracy                           0.93        80\n",
            "   macro avg       0.91      0.93      0.92        80\n",
            "weighted avg       0.93      0.93      0.93        80\n",
            "\n",
            "Confusion Matrix:\n",
            "[[48  4]\n",
            " [ 2 26]]\n"
          ]
        }
      ],
      "source": [
        "'''Apply Support Vector Machine (SVM) to the &quot;Social_Network_Ads.csv&quot; dataset for classification,\n",
        "and what were the key factors considered in selecting the SVM model, including preprocessing\n",
        "steps, kernel choice, and evaluation metrics used.'''\n",
        "\n",
        "import pandas as pd\n",
        "from sklearn.model_selection import train_test_split\n",
        "from sklearn.preprocessing import StandardScaler\n",
        "from sklearn.svm import SVC\n",
        "from sklearn.metrics import accuracy_score, classification_report, confusion_matrix\n",
        "\n",
        "df = pd.read_csv('/content/Social_Network_Ads.csv')\n",
        "\n",
        "X = df.drop(['User ID', 'Purchased'], axis=1)\n",
        "y = df['Purchased']\n",
        "\n",
        "X_encoded = pd.get_dummies(X)\n",
        "\n",
        "X_train, X_test, y_train, y_test = train_test_split(X_encoded, y, test_size=0.2, random_state=42)\n",
        "\n",
        "scaler = StandardScaler()\n",
        "X_train_scaled = scaler.fit_transform(X_train)\n",
        "X_test_scaled = scaler.transform(X_test)\n",
        "\n",
        "svm_model = SVC(kernel='rbf', random_state=42)\n",
        "svm_model.fit(X_train_scaled, y_train)\n",
        "\n",
        "y_pred = svm_model.predict(X_test_scaled)\n",
        "\n",
        "accuracy = accuracy_score(y_test, y_pred)\n",
        "print(f'Accuracy: {accuracy:.2f}')\n",
        "\n",
        "print(classification_report(y_test, y_pred))\n",
        "\n",
        "conf_matrix = confusion_matrix(y_test, y_pred)\n",
        "print('Confusion Matrix:')\n",
        "print(conf_matrix)"
      ]
    },
    {
      "cell_type": "code",
      "source": [],
      "metadata": {
        "id": "C0mBYcdekkUi"
      },
      "execution_count": null,
      "outputs": []
    }
  ]
}