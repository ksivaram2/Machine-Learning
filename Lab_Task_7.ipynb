{
  "nbformat": 4,
  "nbformat_minor": 0,
  "metadata": {
    "colab": {
      "provenance": [],
      "authorship_tag": "ABX9TyNMEkSRgUsxORaEtROQVNc7",
      "include_colab_link": true
    },
    "kernelspec": {
      "name": "python3",
      "display_name": "Python 3"
    },
    "language_info": {
      "name": "python"
    }
  },
  "cells": [
    {
      "cell_type": "markdown",
      "metadata": {
        "id": "view-in-github",
        "colab_type": "text"
      },
      "source": [
        "<a href=\"https://colab.research.google.com/github/ksivaram2/Machine-Learning/blob/main/Lab_Task_7.ipynb\" target=\"_parent\"><img src=\"https://colab.research.google.com/assets/colab-badge.svg\" alt=\"Open In Colab\"/></a>"
      ]
    },
    {
      "cell_type": "code",
      "execution_count": 5,
      "metadata": {
        "id": "_C9RjoIRSm8Q",
        "colab": {
          "base_uri": "https://localhost:8080/"
        },
        "outputId": "0c052889-4f5e-484b-e5ec-e4676735129a"
      },
      "outputs": [
        {
          "output_type": "stream",
          "name": "stdout",
          "text": [
            "Feature Vector: [ 1  2  3  4  5  6  7  8  9 10]\n",
            "Mean: 5.5\n",
            "Sample Variance: 9.166666666666666\n",
            "Population Variance: 8.25\n"
          ]
        }
      ],
      "source": [
        "##### 1.Create a vector (array) of 1XN dimension representing N- dimensional feature vector of a sample.\n",
        "#### Write a program to compute the mean and variance of the elements present in the array.\n",
        "import numpy as np\n",
        "\n",
        "def compute_mean_and_variance(arr):\n",
        "    mean = np.sum(arr) / len(arr)\n",
        "    # Sample variance\n",
        "    sample_variance = np.sum((arr - mean)**2) / (len(arr) - 1)\n",
        "    # Population variance\n",
        "    population_variance = np.sum((arr - mean)**2) / len(arr)\n",
        "    return mean, sample_variance, population_variance\n",
        "\n",
        "feature_vector = np.array([1, 2, 3, 4, 5, 6, 7, 8, 9, 10])\n",
        "\n",
        "mean, sample_variance, population_variance = compute_mean_and_variance(feature_vector)\n",
        "\n",
        "print(\"Feature Vector:\", feature_vector)\n",
        "print(\"Mean:\", mean)\n",
        "print(\"Sample Variance:\", sample_variance)\n",
        "print(\"Population Variance:\", population_variance)"
      ]
    },
    {
      "cell_type": "code",
      "source": [
        "### 2.Create two vectors each of dimension 1XM each representing N- dimensional feature vector of a sample.\n",
        "### Write a program to compute the Covariance between them.\n",
        "import numpy as np\n",
        "\n",
        "# Function to compute the covariance between two 1xM dimensional feature vectors\n",
        "def compute_covariance(X, Y):\n",
        "    M = X.shape[1]\n",
        "    mean_X = np.sum(X) / M\n",
        "    mean_Y = np.sum(Y) / M\n",
        "    covariance = np.sum((X - mean_X) * (Y - mean_Y)) / M\n",
        "    return covariance\n",
        "\n",
        "# Create two 1x10 dimensional feature vectors\n",
        "X = np.array([[1, 2, 3, 4, 5, 6, 7, 8, 9, 10]])\n",
        "Y = np.array([[11,12,13,14,15,16,17,18,19,20]])\n",
        "\n",
        "# Compute the covariance between the two vectors\n",
        "covariance = compute_covariance(X, Y)\n",
        "\n",
        "print(\"Feature Vector X:\", X)\n",
        "print(\"Feature Vector Y:\", Y)\n",
        "print(\"Covariance between X and Y:\", covariance)"
      ],
      "metadata": {
        "colab": {
          "base_uri": "https://localhost:8080/"
        },
        "id": "CBV8UBvlokSF",
        "outputId": "20e82b62-cd87-4b6a-bf17-5ccea00f1646"
      },
      "execution_count": 6,
      "outputs": [
        {
          "output_type": "stream",
          "name": "stdout",
          "text": [
            "Feature Vector X: [[ 1  2  3  4  5  6  7  8  9 10]]\n",
            "Feature Vector Y: [[11 12 13 14 15 16 17 18 19 20]]\n",
            "Covariance between X and Y: 8.25\n"
          ]
        }
      ]
    },
    {
      "cell_type": "code",
      "source": [
        "### 3.Create two vectors each of dimension 1XN. Write a program to compute the Correlation between them.\n",
        "import numpy as np\n",
        "\n",
        "# Function to compute the correlation between two 1xN dimensional vectors\n",
        "def compute_correlation(X, Y):\n",
        "    mean_X = np.mean(X)\n",
        "    mean_Y = np.mean(Y)\n",
        "    covariance = np.sum((X - mean_X) * (Y - mean_Y))\n",
        "    std_dev_X = np.sqrt(np.sum((X - mean_X)**2))\n",
        "    std_dev_Y = np.sqrt(np.sum((Y - mean_Y)**2))\n",
        "    correlation = covariance / (std_dev_X * std_dev_Y)\n",
        "    return correlation\n",
        "\n",
        "# Create two 1xN dimensional vectors\n",
        "N = 10\n",
        "X = np.array([1, 2, 3, 4, 5, 6, 7, 8, 9, 10])\n",
        "Y = np.array([11,12,13,14,15,16,17,18,19,20])\n",
        "\n",
        "# Compute the correlation between the two vectors\n",
        "correlation = compute_correlation(X, Y)\n",
        "\n",
        "print(\"Feature Vector X:\", X)\n",
        "print(\"Feature Vector Y:\", Y)\n",
        "print(\"Correlation between X and Y:\", correlation)\n"
      ],
      "metadata": {
        "colab": {
          "base_uri": "https://localhost:8080/"
        },
        "id": "yhvsHogsouTH",
        "outputId": "51a374c4-9de4-44bf-b67d-e0e8f00fb081"
      },
      "execution_count": 7,
      "outputs": [
        {
          "output_type": "stream",
          "name": "stdout",
          "text": [
            "Feature Vector X: [ 1  2  3  4  5  6  7  8  9 10]\n",
            "Feature Vector Y: [11 12 13 14 15 16 17 18 19 20]\n",
            "Correlation between X and Y: 1.0\n"
          ]
        }
      ]
    },
    {
      "cell_type": "code",
      "source": [
        "### 4. Create a Matrix of MXN dimension representing the M-dimensional feature vector for N number of samples\n",
        "###i. e (i,j)th entry of the matrix represents the ith feature of jth sample.\n",
        "### Write a program to computethe covariance matrix and correlation matrix. Comment on takeaways from these matrixes.\n",
        "import numpy as np\n",
        "\n",
        "# Function to compute the covariance matrix and correlation matrix\n",
        "def compute_covariance_and_correlation(matrix):\n",
        "    # Compute the covariance matrix\n",
        "    covariance_matrix = np.cov(matrix)\n",
        "\n",
        "    # Compute the correlation matrix\n",
        "    correlation_matrix = np.corrcoef(matrix)\n",
        "\n",
        "    return covariance_matrix, correlation_matrix\n",
        "\n",
        "# Create a matrix of MxN dimensions with the given feature vectors\n",
        "matrix = np.array([[1, 2, 3, 4, 5, 6, 7, 8, 9, 10],\n",
        "                   [11,12,13,14,15,16,17,18,19,20]])\n",
        "\n",
        "# Compute the covariance matrix and correlation matrix\n",
        "covariance_matrix, correlation_matrix = compute_covariance_and_correlation(matrix)\n",
        "\n",
        "print(\"Feature Matrix:\")\n",
        "print(matrix)\n",
        "print(\"\\nCovariance Matrix:\")\n",
        "print(covariance_matrix)\n",
        "print(\"\\nCorrelation Matrix:\")\n",
        "print(correlation_matrix)"
      ],
      "metadata": {
        "colab": {
          "base_uri": "https://localhost:8080/"
        },
        "id": "wuXX1WSBozo0",
        "outputId": "9f98b7e5-efb7-4f18-f43f-8bbea14bf5c9"
      },
      "execution_count": 8,
      "outputs": [
        {
          "output_type": "stream",
          "name": "stdout",
          "text": [
            "Feature Matrix:\n",
            "[[ 1  2  3  4  5  6  7  8  9 10]\n",
            " [11 12 13 14 15 16 17 18 19 20]]\n",
            "\n",
            "Covariance Matrix:\n",
            "[[9.16666667 9.16666667]\n",
            " [9.16666667 9.16666667]]\n",
            "\n",
            "Correlation Matrix:\n",
            "[[1. 1.]\n",
            " [1. 1.]]\n"
          ]
        }
      ]
    },
    {
      "cell_type": "code",
      "source": [],
      "metadata": {
        "id": "LsXQfHwSo7RV"
      },
      "execution_count": null,
      "outputs": []
    }
  ]
}