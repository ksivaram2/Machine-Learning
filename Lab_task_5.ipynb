{
  "nbformat": 4,
  "nbformat_minor": 0,
  "metadata": {
    "colab": {
      "provenance": [],
      "authorship_tag": "ABX9TyPIXz1sv8AXS4jtQDeKeusp",
      "include_colab_link": true
    },
    "kernelspec": {
      "name": "python3",
      "display_name": "Python 3"
    },
    "language_info": {
      "name": "python"
    }
  },
  "cells": [
    {
      "cell_type": "markdown",
      "metadata": {
        "id": "view-in-github",
        "colab_type": "text"
      },
      "source": [
        "<a href=\"https://colab.research.google.com/github/ksivaram2/Machine-Learning/blob/main/Lab_task_5.ipynb\" target=\"_parent\"><img src=\"https://colab.research.google.com/assets/colab-badge.svg\" alt=\"Open In Colab\"/></a>"
      ]
    },
    {
      "cell_type": "code",
      "source": [
        "## 1.Write a program to demonstrate the working of the decision tree.\n",
        "## Use an given data set for building the decision tree and apply this knowledge to classify a new sample\n",
        "import pandas as pd\n",
        "from sklearn.model_selection import train_test_split\n",
        "from sklearn.tree import DecisionTreeClassifier\n",
        "from sklearn.metrics import accuracy_score"
      ],
      "metadata": {
        "id": "KIehWmOHe6Yb"
      },
      "execution_count": 1,
      "outputs": []
    },
    {
      "cell_type": "code",
      "source": [
        "df = pd.read_csv(\"weatherdata.csv\")\n",
        "print(df)"
      ],
      "metadata": {
        "colab": {
          "base_uri": "https://localhost:8080/"
        },
        "id": "wSam7tgMURKB",
        "outputId": "6170ec32-da06-4b79-cf22-7d9024fb95fb"
      },
      "execution_count": 2,
      "outputs": [
        {
          "output_type": "stream",
          "name": "stdout",
          "text": [
            "     Outlook Temperature Humidity    Wind Answer\n",
            "0      sunny         hot     high    weak     no\n",
            "1      sunny         hot     high  strong     no\n",
            "2   overcast         hot     high    weak    yes\n",
            "3       rain        mild     high    weak    yes\n",
            "4       rain        cool   normal    weak    yes\n",
            "5       rain        cool   normal  strong     no\n",
            "6   overcast        cool   normal  strong    yes\n",
            "7      sunny        mild     high    weak     no\n",
            "8      sunny        cool   normal    weak    yes\n",
            "9       rain        mild   normal    weak    yes\n",
            "10     sunny        mild   normal  strong    yes\n",
            "11  overcast        mild     high  strong    yes\n",
            "12  overcast         hot   normal    weak    yes\n",
            "13      rain        mild     high  strong     no\n",
            "14      rain        cool   normal  strong   yes \n",
            "15     sunny        mild   normal  strong     no\n"
          ]
        }
      ]
    },
    {
      "cell_type": "code",
      "source": [
        "X = pd.get_dummies(df.drop('Answer', axis=1))  # Features\n",
        "y = df['Answer']  # Target variable\n",
        "\n",
        "clf = DecisionTreeClassifier()\n",
        "\n",
        "clf.fit(X, y)\n",
        "\n",
        "# Classify a new sample\n",
        "new_sample = pd.DataFrame([['sunny', 'cool', 'high', 'strong']], columns=['Outlook', 'Temperature', 'Humidity', 'Wind'])\n",
        "new_sample_encoded = pd.get_dummies(new_sample)\n",
        "\n",
        "# Ensure the new sample has the same columns as X\n",
        "for col in X.columns:\n",
        "    if col not in new_sample_encoded.columns:\n",
        "        new_sample_encoded[col] = 0\n",
        "\n",
        "# Reorder columns to match X\n",
        "new_sample_encoded = new_sample_encoded[X.columns]\n",
        "\n",
        "# Predict using the classifier\n",
        "predicted_class = clf.predict(new_sample_encoded)\n",
        "print(\"Predicted class for the new sample:\", predicted_class[0])"
      ],
      "metadata": {
        "colab": {
          "base_uri": "https://localhost:8080/"
        },
        "id": "VMUVE1bXUZ6b",
        "outputId": "da64bea3-5de9-4fc9-e9cb-2b4e74e13623"
      },
      "execution_count": 3,
      "outputs": [
        {
          "output_type": "stream",
          "name": "stdout",
          "text": [
            "Predicted class for the new sample: no\n"
          ]
        }
      ]
    },
    {
      "cell_type": "code",
      "source": [
        "### 2. Imagine that you are a medical researcher compiling data for a study.\n",
        "### You have collected data about a set of patients, all of whom suffered from the same illness.\n",
        "### During their course of treatment, each patient responded to one of 5 medications, Drug A, Drug B, Drug c, Drug x and y.Part of your job is to build a model to find out which drug might be appropriate for a future patient with the same illness.\n",
        "### The feature sets of this dataset are Age, Sex, Blood Pressure, and Cholesterol of patients, and the target is the drug that each patient responded to.\n",
        "### It is a sample of binary classifier, and you can use the training part of the dataset to build a decision tree, and then use it to predict the class of aunknown patient, or to prescribe it to a new patient.\n",
        "import pandas as pd\n",
        "from sklearn.tree import DecisionTreeClassifier\n",
        "from sklearn.model_selection import train_test_split"
      ],
      "metadata": {
        "id": "kVQP9knRUgEA"
      },
      "execution_count": 4,
      "outputs": []
    },
    {
      "cell_type": "code",
      "source": [
        "data = pd.read_csv(\"drugdata.csv\")\n",
        "\n",
        "X = data[['Age', 'Sex', 'BP', 'Cholesterol']]  # Features\n",
        "X = pd.get_dummies(X)  # Convert categorical variables into dummy/indicator variables\n",
        "y = data['Drug']  # Target variable"
      ],
      "metadata": {
        "id": "f0YqS9QLU1qE"
      },
      "execution_count": 5,
      "outputs": []
    },
    {
      "cell_type": "code",
      "source": [
        "X_train, X_test, y_train, y_test = train_test_split(X, y, test_size=0.2, random_state=42)"
      ],
      "metadata": {
        "id": "DGIbpC0gU5rD"
      },
      "execution_count": 6,
      "outputs": []
    },
    {
      "cell_type": "code",
      "source": [
        "clf = DecisionTreeClassifier()\n",
        "\n",
        "clf.fit(X_train, y_train)\n",
        "\n",
        "new_patient = pd.DataFrame([[50, 'M', 'High', 'High']], columns=['Age', 'Sex', 'Blood Pressure', 'Cholesterol'])\n",
        "new_patient = pd.get_dummies(new_patient)  # Encode categorical variables\n",
        "\n",
        "# Ensure new patient has the same columns as X_train\n",
        "missing_cols = set(X_train.columns) - set(new_patient.columns)\n",
        "for col in missing_cols:\n",
        "    new_patient[col] = 0\n",
        "new_patient = new_patient[X_train.columns]  # Reorder columns to match X_train\n",
        "\n",
        "# Predict the drug for the new patient\n",
        "predicted_drug = clf.predict(new_patient)\n",
        "print(\"Predicted drug for the new patient:\", predicted_drug[0])"
      ],
      "metadata": {
        "colab": {
          "base_uri": "https://localhost:8080/"
        },
        "id": "T_cOts5YU_Gk",
        "outputId": "cb633ffd-bb17-4a35-c5e6-896529addbd3"
      },
      "execution_count": 7,
      "outputs": [
        {
          "output_type": "stream",
          "name": "stdout",
          "text": [
            "Predicted drug for the new patient: drugC\n"
          ]
        }
      ]
    },
    {
      "cell_type": "code",
      "source": [],
      "metadata": {
        "id": "YANTV7cBVDge"
      },
      "execution_count": null,
      "outputs": []
    }
  ]
}